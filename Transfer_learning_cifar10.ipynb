{
  "nbformat": 4,
  "nbformat_minor": 0,
  "metadata": {
    "colab": {
      "name": "Transfer_learning_cifar10.ipynb",
      "provenance": [],
      "collapsed_sections": [],
      "toc_visible": true,
      "authorship_tag": "ABX9TyMwW4IlC3jiKt+dGIuNxhdB",
      "include_colab_link": true
    },
    "kernelspec": {
      "name": "python3",
      "display_name": "Python 3"
    },
    "accelerator": "GPU"
  },
  "cells": [
    {
      "cell_type": "markdown",
      "metadata": {
        "id": "view-in-github",
        "colab_type": "text"
      },
      "source": [
        "<a href=\"https://colab.research.google.com/github/paurbano/holbertonschool-machine_learning/blob/master/Transfer_learning_cifar10.ipynb\" target=\"_parent\"><img src=\"https://colab.research.google.com/assets/colab-badge.svg\" alt=\"Open In Colab\"/></a>"
      ]
    },
    {
      "cell_type": "code",
      "metadata": {
        "id": "MpDFA7xaG2Y0",
        "colab_type": "code",
        "colab": {
          "base_uri": "https://localhost:8080/",
          "height": 272
        },
        "outputId": "244e46a5-779b-4411-8f69-fc7fc929e128"
      },
      "source": [
        "%tensorflow_version 1.x\n",
        "import tensorflow.keras as K\n",
        "import numpy as np\n",
        "\n",
        "\n",
        "def preprocess_data(X, Y):\n",
        "    '''pre-processes the data\n",
        "    Args:\n",
        "        X is a numpy.ndarray of shape (m, 32, 32, 3) containing the\n",
        "        CIFAR 10 data, where m is the number of data points\n",
        "        Y is a numpy.ndarray of shape (m,) containing the CIFAR 10\n",
        "        labels for X\n",
        "    Returns: X_p, Y_p\n",
        "        X_p is a numpy.ndarray containing the preprocessed X\n",
        "        Y_p is a numpy.ndarray containing the preprocessed Y\n",
        "    '''\n",
        "    X = X / 255.0\n",
        "    # X = tf.image.resize(image, (200, 200))\n",
        "    Y = K.utils.to_categorical(Y, 10)\n",
        "    return X, Y\n",
        "\n",
        "# Load the dataset:\n",
        "(x_train, y_train), (x_test, y_test) = K.datasets.cifar10.load_data()\n",
        "'''\n",
        "x_train = x_train / 255.0\n",
        "x_test = x_test / 255.0\n",
        "# one hot encode the labels\n",
        "y_train = K.utils.to_categorical(y_train, 10)\n",
        "y_test = K.utils.to_categorical(y_test, 10)\n",
        "'''\n",
        "# preprocess data\n",
        "x_train, y_train = preprocess_data(x_train, y_train)\n",
        "x_test , y_test = preprocess_data(x_test, y_test)\n",
        "\n",
        "# load model without output layer include_top=False\n",
        "# ResNet50\n",
        "base_model = K.applications.ResNet50(weights='imagenet', include_top=False, input_shape=(200, 200, 3))\n",
        "\n",
        "# freeze model\n",
        "base_model.trainable = False\n",
        "\n",
        "# transfer learning model\n",
        "# the input image of Cifar10 is 32x32 so it needs to be upscaled 3 times\n",
        "# before we can pass it through the ResNet layers\n",
        "model = K.Sequential()\n",
        "model.add(K.layers.UpSampling2D((2,2)))\n",
        "model.add(K.layers.UpSampling2D((2,2)))\n",
        "model.add(K.layers.UpSampling2D((2,2)))\n",
        "model.add(base_model)\n",
        "model.add(K.layers.Flatten())\n",
        "model.add(K.layers.BatchNormalization())\n",
        "model.add(K.layers.Dense(128, activation='relu'))\n",
        "model.add(K.layers.Dropout(0.5))\n",
        "model.add(K.layers.BatchNormalization())\n",
        "model.add(K.layers.Dense(64, activation='relu'))\n",
        "# model.add(K.layers.GlobalAveragePooling2D())\n",
        "model.add(K.layers.Dropout(0.5))\n",
        "model.add(K.layers.BatchNormalization())\n",
        "model.add(K.layers.Dense(10, activation='softmax'))\n",
        "\n",
        "# summarize model\n",
        "# model.summary()\n",
        "\n",
        "# model.compile(optimizer='adam', loss='categorical_crossentropy',metrics=['accuracy'])\n",
        "model.compile(optimizer=K.optimizers.RMSprop(lr=2e-5), loss='binary_crossentropy', metrics=['accuracy'])\n",
        "\n",
        "history = model.fit(x_train, y_train, epochs=5, batch_size=20, validation_data=(x_test, y_test))\n",
        "\n",
        "model.save('cifar10.h5')"
      ],
      "execution_count": 2,
      "outputs": [
        {
          "output_type": "stream",
          "text": [
            "WARNING:tensorflow:From /tensorflow-1.15.2/python3.6/tensorflow_core/python/ops/math_grad.py:1424: where (from tensorflow.python.ops.array_ops) is deprecated and will be removed in a future version.\n",
            "Instructions for updating:\n",
            "Use tf.where in 2.0, which has the same broadcast rule as np.where\n",
            "Train on 50000 samples, validate on 10000 samples\n",
            "Epoch 1/5\n",
            "50000/50000 [==============================] - 184s 4ms/sample - loss: 0.2696 - acc: 0.9051 - val_loss: 0.3622 - val_acc: 0.9000\n",
            "Epoch 2/5\n",
            "50000/50000 [==============================] - 173s 3ms/sample - loss: 0.2138 - acc: 0.9209 - val_loss: 0.3586 - val_acc: 0.9000\n",
            "Epoch 3/5\n",
            "50000/50000 [==============================] - 174s 3ms/sample - loss: 0.1907 - acc: 0.9293 - val_loss: 0.3552 - val_acc: 0.9000\n",
            "Epoch 4/5\n",
            "50000/50000 [==============================] - 172s 3ms/sample - loss: 0.1761 - acc: 0.9346 - val_loss: 0.3529 - val_acc: 0.9000\n",
            "Epoch 5/5\n",
            "50000/50000 [==============================] - 171s 3ms/sample - loss: 0.1643 - acc: 0.9391 - val_loss: 0.3582 - val_acc: 0.9000\n"
          ],
          "name": "stdout"
        }
      ]
    },
    {
      "cell_type": "code",
      "metadata": {
        "id": "JWYaxbWIhcDW",
        "colab_type": "code",
        "colab": {
          "base_uri": "https://localhost:8080/",
          "height": 205
        },
        "outputId": "883ed890-ad85-44b8-e50c-e5e796fd3d5e"
      },
      "source": [
        "my_model = K.models.load_model('cifar10.h5')"
      ],
      "execution_count": 4,
      "outputs": [
        {
          "output_type": "stream",
          "text": [
            "WARNING:tensorflow:From /tensorflow-1.15.2/python3.6/tensorflow_core/python/ops/init_ops.py:97: calling GlorotUniform.__init__ (from tensorflow.python.ops.init_ops) with dtype is deprecated and will be removed in a future version.\n",
            "Instructions for updating:\n",
            "Call initializer instance with the dtype argument instead of passing it to the constructor\n",
            "WARNING:tensorflow:From /tensorflow-1.15.2/python3.6/tensorflow_core/python/ops/init_ops.py:97: calling Zeros.__init__ (from tensorflow.python.ops.init_ops) with dtype is deprecated and will be removed in a future version.\n",
            "Instructions for updating:\n",
            "Call initializer instance with the dtype argument instead of passing it to the constructor\n",
            "WARNING:tensorflow:From /tensorflow-1.15.2/python3.6/tensorflow_core/python/ops/init_ops.py:97: calling Ones.__init__ (from tensorflow.python.ops.init_ops) with dtype is deprecated and will be removed in a future version.\n",
            "Instructions for updating:\n",
            "Call initializer instance with the dtype argument instead of passing it to the constructor\n",
            "WARNING:tensorflow:Sequential models without an `input_shape` passed to the first layer cannot reload their optimizer state. As a result, your model isstarting with a freshly initialized optimizer.\n"
          ],
          "name": "stdout"
        }
      ]
    },
    {
      "cell_type": "code",
      "metadata": {
        "id": "3Qy6TTXEh9Lk",
        "colab_type": "code",
        "colab": {
          "base_uri": "https://localhost:8080/",
          "height": 50
        },
        "outputId": "31340e5b-886c-4c9b-ad89-762da0148556"
      },
      "source": [
        "my_model.evaluate(x_test, y_test)"
      ],
      "execution_count": 5,
      "outputs": [
        {
          "output_type": "stream",
          "text": [
            "10000/10000 [==============================] - 25s 2ms/sample - loss: 0.3582 - acc: 0.9000\n"
          ],
          "name": "stdout"
        },
        {
          "output_type": "execute_result",
          "data": {
            "text/plain": [
              "[0.35816613264083863, 0.8999973]"
            ]
          },
          "metadata": {
            "tags": []
          },
          "execution_count": 5
        }
      ]
    },
    {
      "cell_type": "code",
      "metadata": {
        "id": "qSWZ91JAiW1L",
        "colab_type": "code",
        "colab": {
          "base_uri": "https://localhost:8080/",
          "height": 588
        },
        "outputId": "0c088050-a38e-4eda-c52e-6c0f152419c7"
      },
      "source": [
        "my_model.summary()"
      ],
      "execution_count": 6,
      "outputs": [
        {
          "output_type": "stream",
          "text": [
            "Model: \"sequential_1\"\n",
            "_________________________________________________________________\n",
            "Layer (type)                 Output Shape              Param #   \n",
            "=================================================================\n",
            "up_sampling2d_3 (UpSampling2 multiple                  0         \n",
            "_________________________________________________________________\n",
            "up_sampling2d_4 (UpSampling2 multiple                  0         \n",
            "_________________________________________________________________\n",
            "up_sampling2d_5 (UpSampling2 multiple                  0         \n",
            "_________________________________________________________________\n",
            "resnet50 (Model)             (None, 7, 7, 2048)        23587712  \n",
            "_________________________________________________________________\n",
            "flatten_1 (Flatten)          multiple                  0         \n",
            "_________________________________________________________________\n",
            "batch_normalization_3 (Batch multiple                  524288    \n",
            "_________________________________________________________________\n",
            "dense_3 (Dense)              multiple                  16777344  \n",
            "_________________________________________________________________\n",
            "dropout_2 (Dropout)          multiple                  0         \n",
            "_________________________________________________________________\n",
            "batch_normalization_4 (Batch multiple                  512       \n",
            "_________________________________________________________________\n",
            "dense_4 (Dense)              multiple                  8256      \n",
            "_________________________________________________________________\n",
            "dropout_3 (Dropout)          multiple                  0         \n",
            "_________________________________________________________________\n",
            "batch_normalization_5 (Batch multiple                  256       \n",
            "_________________________________________________________________\n",
            "dense_5 (Dense)              multiple                  650       \n",
            "=================================================================\n",
            "Total params: 40,899,018\n",
            "Trainable params: 17,048,778\n",
            "Non-trainable params: 23,850,240\n",
            "_________________________________________________________________\n"
          ],
          "name": "stdout"
        }
      ]
    },
    {
      "cell_type": "code",
      "metadata": {
        "id": "kPRq4mr1jHkC",
        "colab_type": "code",
        "colab": {
          "base_uri": "https://localhost:8080/",
          "height": 295
        },
        "outputId": "e3a44553-334b-4c24-fe81-b23a9b9ee667"
      },
      "source": [
        "import matplotlib.pyplot as plt\n",
        "def plotLosses(history):  \n",
        "    plt.plot(history.history['loss'])\n",
        "    plt.plot(history.history['val_loss'])\n",
        "    plt.title('model loss')\n",
        "    plt.ylabel('loss')\n",
        "    plt.xlabel('epoch')\n",
        "    plt.legend(['train', 'validation'], loc='upper left')\n",
        "    plt.show()\n",
        "plotLosses(history)"
      ],
      "execution_count": 9,
      "outputs": [
        {
          "output_type": "display_data",
          "data": {
            "image/png": "[encoded data removed]",
            "text/plain": [
              "<Figure size 432x288 with 1 Axes>"
            ]
          },
          "metadata": {
            "tags": [],
            "needs_background": "light"
          }
        }
      ]
    }
  ]
}